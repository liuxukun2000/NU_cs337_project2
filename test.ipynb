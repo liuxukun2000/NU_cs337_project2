{
 "cells": [
  {
   "cell_type": "code",
   "execution_count": 2,
   "metadata": {},
   "outputs": [],
   "source": [
    "import spacy\n",
    "\n",
    "nlp = spacy.load('en_core_web_sm')\n",
    "\n"
   ]
  },
  {
   "cell_type": "code",
   "execution_count": 181,
   "metadata": {},
   "outputs": [
    {
     "name": "stdout",
     "output_type": "stream",
     "text": [
      "[('extra', 'amod'), ('-', 'amod'), ('virgin', 'amod'), ('olive', 'compound'), ('oil', 'ROOT')]\n"
     ]
    },
    {
     "data": {
      "text/html": [
       "<span class=\"tex2jax_ignore\"><svg xmlns=\"http://www.w3.org/2000/svg\" xmlns:xlink=\"http://www.w3.org/1999/xlink\" xml:lang=\"en\" id=\"937c924d963b44f78f808355f0f2fb37-0\" class=\"displacy\" width=\"750\" height=\"399.5\" direction=\"ltr\" style=\"max-width: none; height: 399.5px; color: #000000; background: #ffffff; font-family: Arial; direction: ltr\">\n",
       "<text class=\"displacy-token\" fill=\"currentColor\" text-anchor=\"middle\" y=\"309.5\">\n",
       "    <tspan class=\"displacy-word\" fill=\"currentColor\" x=\"50\">extra-</tspan>\n",
       "    <tspan class=\"displacy-tag\" dy=\"2em\" fill=\"currentColor\" x=\"50\">ADJ</tspan>\n",
       "</text>\n",
       "\n",
       "<text class=\"displacy-token\" fill=\"currentColor\" text-anchor=\"middle\" y=\"309.5\">\n",
       "    <tspan class=\"displacy-word\" fill=\"currentColor\" x=\"225\">virgin</tspan>\n",
       "    <tspan class=\"displacy-tag\" dy=\"2em\" fill=\"currentColor\" x=\"225\">ADJ</tspan>\n",
       "</text>\n",
       "\n",
       "<text class=\"displacy-token\" fill=\"currentColor\" text-anchor=\"middle\" y=\"309.5\">\n",
       "    <tspan class=\"displacy-word\" fill=\"currentColor\" x=\"400\">olive</tspan>\n",
       "    <tspan class=\"displacy-tag\" dy=\"2em\" fill=\"currentColor\" x=\"400\">NOUN</tspan>\n",
       "</text>\n",
       "\n",
       "<text class=\"displacy-token\" fill=\"currentColor\" text-anchor=\"middle\" y=\"309.5\">\n",
       "    <tspan class=\"displacy-word\" fill=\"currentColor\" x=\"575\">oil</tspan>\n",
       "    <tspan class=\"displacy-tag\" dy=\"2em\" fill=\"currentColor\" x=\"575\">NOUN</tspan>\n",
       "</text>\n",
       "\n",
       "<g class=\"displacy-arrow\">\n",
       "    <path class=\"displacy-arc\" id=\"arrow-937c924d963b44f78f808355f0f2fb37-0-0\" stroke-width=\"2px\" d=\"M70,264.5 C70,2.0 575.0,2.0 575.0,264.5\" fill=\"none\" stroke=\"currentColor\"/>\n",
       "    <text dy=\"1.25em\" style=\"font-size: 0.8em; letter-spacing: 1px\">\n",
       "        <textPath xlink:href=\"#arrow-937c924d963b44f78f808355f0f2fb37-0-0\" class=\"displacy-label\" startOffset=\"50%\" side=\"left\" fill=\"currentColor\" text-anchor=\"middle\">amod</textPath>\n",
       "    </text>\n",
       "    <path class=\"displacy-arrowhead\" d=\"M70,266.5 L62,254.5 78,254.5\" fill=\"currentColor\"/>\n",
       "</g>\n",
       "\n",
       "<g class=\"displacy-arrow\">\n",
       "    <path class=\"displacy-arc\" id=\"arrow-937c924d963b44f78f808355f0f2fb37-0-1\" stroke-width=\"2px\" d=\"M245,264.5 C245,89.5 570.0,89.5 570.0,264.5\" fill=\"none\" stroke=\"currentColor\"/>\n",
       "    <text dy=\"1.25em\" style=\"font-size: 0.8em; letter-spacing: 1px\">\n",
       "        <textPath xlink:href=\"#arrow-937c924d963b44f78f808355f0f2fb37-0-1\" class=\"displacy-label\" startOffset=\"50%\" side=\"left\" fill=\"currentColor\" text-anchor=\"middle\">amod</textPath>\n",
       "    </text>\n",
       "    <path class=\"displacy-arrowhead\" d=\"M245,266.5 L237,254.5 253,254.5\" fill=\"currentColor\"/>\n",
       "</g>\n",
       "\n",
       "<g class=\"displacy-arrow\">\n",
       "    <path class=\"displacy-arc\" id=\"arrow-937c924d963b44f78f808355f0f2fb37-0-2\" stroke-width=\"2px\" d=\"M420,264.5 C420,177.0 565.0,177.0 565.0,264.5\" fill=\"none\" stroke=\"currentColor\"/>\n",
       "    <text dy=\"1.25em\" style=\"font-size: 0.8em; letter-spacing: 1px\">\n",
       "        <textPath xlink:href=\"#arrow-937c924d963b44f78f808355f0f2fb37-0-2\" class=\"displacy-label\" startOffset=\"50%\" side=\"left\" fill=\"currentColor\" text-anchor=\"middle\">compound</textPath>\n",
       "    </text>\n",
       "    <path class=\"displacy-arrowhead\" d=\"M420,266.5 L412,254.5 428,254.5\" fill=\"currentColor\"/>\n",
       "</g>\n",
       "</svg></span>"
      ],
      "text/plain": [
       "<IPython.core.display.HTML object>"
      ]
     },
     "metadata": {},
     "output_type": "display_data"
    },
    {
     "name": "stderr",
     "output_type": "stream",
     "text": [
      "/Users/ericchen/Desktop/Programming/CS_337/NU_cs337_project2/cs337_project2/lib/python3.11/site-packages/spacy/displacy/__init__.py:213: UserWarning: [W006] No entities to visualize found in Doc object. If this is surprising to you, make sure the Doc was processed using a model that supports named entity recognition, and check the `doc.ents` property manually if necessary.\n",
      "  warnings.warn(Warnings.W006)\n"
     ]
    },
    {
     "data": {
      "text/html": [
       "<span class=\"tex2jax_ignore\"><div class=\"entities\" style=\"line-height: 2.5; direction: ltr\">extra-virgin olive oil</div></span>"
      ],
      "text/plain": [
       "<IPython.core.display.HTML object>"
      ]
     },
     "metadata": {},
     "output_type": "display_data"
    }
   ],
   "source": [
    "tokens = nlp(\"extra-virgin olive oil\")\n",
    "print([(w.text, w.dep_) for w in tokens])\n",
    "\n",
    "from spacy import displacy\n",
    "displacy.render(tokens, style='dep')\n",
    "displacy.render(tokens, style='ent')\n",
    "tokens[3]\n",
    "for child in tokens[2].children:\n",
    "    print(child.dep_)\n"
   ]
  },
  {
   "cell_type": "code",
   "execution_count": 182,
   "metadata": {},
   "outputs": [
    {
     "name": "stdout",
     "output_type": "stream",
     "text": [
      "1.5 cups coarsely chopped onion\n",
      "0.5 cup chopped carrot\n",
      "2 cups flour\n",
      "0.75 cup sugar\n",
      "1.5 cup (102 g) panko\n"
     ]
    }
   ],
   "source": [
    "import re\n",
    "\n",
    "def fraction_to_decimal(fraction):\n",
    "    unicode_fractions = {\n",
    "        '½': 0.5, '⅓': 1/3, '⅔': 2/3, '¼': 0.25, '¾': 0.75,\n",
    "        '⅕': 0.2, '⅖': 0.4, '⅗': 0.6, '⅘': 0.8, '⅙': 1/6, \n",
    "        '⅚': 5/6, '⅛': 0.125, '⅜': 0.375, '⅝': 0.625, '⅞': 0.875\n",
    "    }\n",
    "    if fraction in unicode_fractions:\n",
    "        return unicode_fractions[fraction]\n",
    "\n",
    "    if '/' in fraction:\n",
    "        numerator, denominator = fraction.split('/')\n",
    "        return float(numerator) / float(denominator)\n",
    "\n",
    "    return 0\n",
    "\n",
    "def replace_quantity_with_decimal(ingredient):\n",
    "    # Updated pattern to match whole number with optional fraction, standalone fraction, or standalone whole number\n",
    "    quantity_pattern = r'((\\d+\\s*)(\\d+/\\d+|[\\u00BC-\\u00BE\\u2150-\\u215E]))|((\\d+/\\d+|[\\u00BC-\\u00BE\\u2150-\\u215E]))|(\\d+)'\n",
    "\n",
    "    def replace_match(match):\n",
    "        # Extract the whole number and fraction parts\n",
    "        whole_number = match.group(6) or match.group(2)\n",
    "        fraction = match.group(3) or match.group(5) \n",
    "\n",
    "        decimal_whole_number = int(whole_number) if whole_number else 0\n",
    "        decimal_fraction = fraction_to_decimal(fraction) if fraction else 0\n",
    "\n",
    "        total_quantity = decimal_whole_number + decimal_fraction\n",
    "        return str(total_quantity)\n",
    "\n",
    "    # Replace the quantity with the decimal sum\n",
    "    return re.sub(quantity_pattern, replace_match, ingredient, 1)\n",
    "\n",
    "# Example usage\n",
    "ingredients = [\"1 ½ cups coarsely chopped onion\", \"½ cup chopped carrot\", \"2 cups flour\", \"3/4 cup sugar\", \"1½ cup (102 g) panko\"]\n",
    "for ingredient in ingredients:\n",
    "    print(replace_quantity_with_decimal(ingredient))"
   ]
  },
  {
   "cell_type": "code",
   "execution_count": 183,
   "metadata": {},
   "outputs": [
    {
     "name": "stdout",
     "output_type": "stream",
     "text": [
      "1 0.5 cups coarsely chopped onion\n"
     ]
    }
   ],
   "source": [
    "import re\n",
    "\n",
    "def fraction_to_decimal(fraction):\n",
    "    # Handle Unicode fractions\n",
    "    unicode_fractions = {\n",
    "        '½': 0.5, '⅓': 1/3, '⅔': 2/3, '¼': 0.25, '¾': 0.75,\n",
    "        '⅕': 0.2, '⅖': 0.4, '⅗': 0.6, '⅘': 0.8, '⅙': 1/6, \n",
    "        '⅚': 5/6, '⅛': 0.125, '⅜': 0.375, '⅝': 0.625, '⅞': 0.875\n",
    "    }\n",
    "    if fraction in unicode_fractions:\n",
    "        return unicode_fractions[fraction]\n",
    "\n",
    "    # Handle ASCII fractions\n",
    "    if '/' in fraction:\n",
    "        numerator, denominator = fraction.split('/')\n",
    "        return float(numerator) / float(denominator)\n",
    "\n",
    "    return 0\n",
    "\n",
    "def replace_fraction_with_decimal(ingredient):\n",
    "    # Regular expression to identify fractions\n",
    "    fraction_pattern = r'(\\d+/\\d+|[\\u00BC-\\u00BE\\u2150-\\u215E])'\n",
    "\n",
    "    # Function to use with re.sub\n",
    "    def replace_match(match):\n",
    "        fraction = match.group(0)\n",
    "        decimal = fraction_to_decimal(fraction)\n",
    "        return str(decimal)\n",
    "\n",
    "    # Replace all fractions in the string with their decimal equivalents\n",
    "    return re.sub(fraction_pattern, replace_match, ingredient)\n",
    "\n",
    "ingredient = \"1 ½ cups coarsely chopped onion\"\n",
    "ingredient_with_decimal = replace_fraction_with_decimal(ingredient)\n",
    "print(ingredient_with_decimal)"
   ]
  }
 ],
 "metadata": {
  "kernelspec": {
   "display_name": "cs337_project2",
   "language": "python",
   "name": "python3"
  },
  "language_info": {
   "codemirror_mode": {
    "name": "ipython",
    "version": 3
   },
   "file_extension": ".py",
   "mimetype": "text/x-python",
   "name": "python",
   "nbconvert_exporter": "python",
   "pygments_lexer": "ipython3",
   "version": "3.11.6"
  }
 },
 "nbformat": 4,
 "nbformat_minor": 2
}
